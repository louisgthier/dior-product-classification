{
 "cells": [
  {
   "cell_type": "code",
   "execution_count": 14,
   "metadata": {},
   "outputs": [],
   "source": [
    "import os\n",
    "import pandas as pd\n",
    "from PIL import Image"
   ]
  },
  {
   "cell_type": "code",
   "execution_count": 2,
   "metadata": {},
   "outputs": [],
   "source": [
    "datasetPath = \"data/\"\n",
    "\n",
    "labelsCSVPath = os.path.join(datasetPath, \"product_list.csv\")\n",
    "trainImagesPath = os.path.join(datasetPath, \"DAM\")\n",
    "testImagesPath = os.path.join(datasetPath, \"test_image_headmind\")"
   ]
  },
  {
   "cell_type": "code",
   "execution_count": 5,
   "metadata": {},
   "outputs": [
    {
     "name": "stdout",
     "output_type": "stream",
     "text": [
      "Number of lines: 2767\n",
      "Number of categories: 6\n"
     ]
    }
   ],
   "source": [
    "# Load the CSV file\n",
    "df = pd.read_csv(labelsCSVPath)\n",
    "\n",
    "# Get the number of lines\n",
    "num_lines_csv = len(df)\n",
    "\n",
    "# Get the number of categories (assuming there is a 'Category' column)\n",
    "num_categories = df['Product_BusinessUnitDesc'].nunique()\n",
    "\n",
    "print(f\"Number of lines: {num_lines_csv}\")\n",
    "print(f\"Number of categories: {num_categories}\")"
   ]
  },
  {
   "cell_type": "code",
   "execution_count": 6,
   "metadata": {},
   "outputs": [
    {
     "name": "stdout",
     "output_type": "stream",
     "text": [
      "['W RTW' 'W SLG' 'W Bags' 'W Shoes' 'Watches' 'W Accessories']\n"
     ]
    }
   ],
   "source": [
    "categories = df['Product_BusinessUnitDesc'].unique()\n",
    "print(categories)"
   ]
  },
  {
   "cell_type": "code",
   "execution_count": 7,
   "metadata": {},
   "outputs": [
    {
     "name": "stdout",
     "output_type": "stream",
     "text": [
      "Number of training images: 2766\n"
     ]
    }
   ],
   "source": [
    "# Count the number of images in the training directory\n",
    "num_train_images = len([name for name in os.listdir(trainImagesPath) if os.path.isfile(os.path.join(trainImagesPath, name))])\n",
    "print(f\"Number of training images: {num_train_images}\")"
   ]
  },
  {
   "cell_type": "code",
   "execution_count": 8,
   "metadata": {},
   "outputs": [
    {
     "name": "stdout",
     "output_type": "stream",
     "text": [
      "Number of test images: 80\n"
     ]
    }
   ],
   "source": [
    "# Count the number of images in the test directory\n",
    "num_test_images = len([name for name in os.listdir(testImagesPath) if os.path.isfile(os.path.join(testImagesPath, name))])\n",
    "print(f\"Number of test images: {num_test_images}\")"
   ]
  },
  {
   "cell_type": "code",
   "execution_count": null,
   "metadata": {},
   "outputs": [
    {
     "name": "stdout",
     "output_type": "stream",
     "text": [
      "Number of matching data: 2766\n",
      "MMCs without corresponding image files:\n",
      "{'CD040112A0030000'}\n"
     ]
    }
   ],
   "source": [
    "#One issue : there is one more line in the csv than image in the train. We will ignore it during the project\n",
    "# Ensure that the other data are matching between csv and images\n",
    "csv_mmcs = set(df['MMC'])\n",
    "image_files = set(os.listdir(trainImagesPath))\n",
    "# Remove the closing .jpeg in image_files\n",
    "image_files = {os.path.splitext(file)[0] for file in image_files}\n",
    "\n",
    "# Find the MMCs that do not have a corresponding image file\n",
    "missing_images = csv_mmcs - image_files\n",
    "\n",
    "# Print the number of matching data\n",
    "num_matching_data = len(csv_mmcs) - len(missing_images)\n",
    "print(f\"Number of matching data: {num_matching_data}\")\n",
    "\n",
    "# Print the MMCs that do not have a corresponding image file\n",
    "print(\"MMCs without corresponding image files:\")\n",
    "print(missing_images)"
   ]
  },
  {
   "cell_type": "code",
   "execution_count": 16,
   "metadata": {},
   "outputs": [
    {
     "name": "stdout",
     "output_type": "stream",
     "text": [
      "All train images have the same size: (256, 256)\n"
     ]
    }
   ],
   "source": [
    "def get_image_sizes(image_path):\n",
    "    sizes = []\n",
    "    for image_file in os.listdir(image_path):\n",
    "        if os.path.isfile(os.path.join(image_path, image_file)):\n",
    "            with Image.open(os.path.join(image_path, image_file)) as img:\n",
    "                sizes.append(img.size)\n",
    "    return sizes\n",
    "\n",
    "train_image_sizes = get_image_sizes(trainImagesPath)\n",
    "\n",
    "train_size_set = set(train_image_sizes)\n",
    "\n",
    "if len(train_size_set) > 1:\n",
    "    print(f\"Train image sizes vary. Range: {min(train_size_set)} to {max(train_size_set)}\")\n",
    "else:\n",
    "    print(f\"All train images have the same size: {train_size_set.pop()}\")"
   ]
  },
  {
   "cell_type": "code",
   "execution_count": 17,
   "metadata": {},
   "outputs": [
    {
     "name": "stdout",
     "output_type": "stream",
     "text": [
      "Test image sizes vary. Range: (1536, 2048) to (4032, 3024)\n"
     ]
    }
   ],
   "source": [
    "test_image_sizes = get_image_sizes(testImagesPath)\n",
    "\n",
    "test_size_set = set(test_image_sizes)\n",
    "\n",
    "if len(test_size_set) > 1:\n",
    "    print(f\"Test image sizes vary. Range: {min(test_size_set)} to {max(test_size_set)}\")\n",
    "else:\n",
    "    print(f\"All test images have the same size: {test_size_set.pop()}\")"
   ]
  }
 ],
 "metadata": {
  "kernelspec": {
   "display_name": "base",
   "language": "python",
   "name": "python3"
  },
  "language_info": {
   "codemirror_mode": {
    "name": "ipython",
    "version": 3
   },
   "file_extension": ".py",
   "mimetype": "text/x-python",
   "name": "python",
   "nbconvert_exporter": "python",
   "pygments_lexer": "ipython3",
   "version": "3.10.9"
  }
 },
 "nbformat": 4,
 "nbformat_minor": 2
}
