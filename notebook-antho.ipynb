{
 "cells": [
  {
   "cell_type": "code",
   "execution_count": null,
   "metadata": {},
   "outputs": [],
   "source": [
    "import pandas as pd \n",
    "import os\n",
    "\n",
    "df = pd.read_csv('data/product_list.csv')\n",
    "\n",
    "DIRECTORY_PATH_TRAIN = 'data/DAM'\n",
    "DIRECTORY_PATH_TEST = 'data/test_image_headmind'"
   ]
  },
  {
   "cell_type": "code",
   "execution_count": null,
   "metadata": {},
   "outputs": [],
   "source": [
    "df.info()"
   ]
  },
  {
   "cell_type": "code",
   "execution_count": null,
   "metadata": {},
   "outputs": [],
   "source": [
    "print(df[\"Product_BusinessUnitDesc\"].unique())"
   ]
  },
  {
   "cell_type": "code",
   "execution_count": null,
   "metadata": {},
   "outputs": [],
   "source": [
    "def count_files(directory):\n",
    "    return len([f for f in os.listdir(directory) if os.path.isfile(os.path.join(directory, f))])\n",
    "\n",
    "\n",
    "file_count = count_files(DIRECTORY_PATH_TRAIN)\n",
    "print(f\"Number of train files: {file_count}\")\n",
    "\n",
    "path = \"data/test_image_headmind\"\n",
    "print(f\"Number of test files : {count_files(path)}\")"
   ]
  },
  {
   "cell_type": "code",
   "execution_count": null,
   "metadata": {},
   "outputs": [],
   "source": [
    "# List all files in the directory\n",
    "directory_files = os.listdir(DIRECTORY_PATH_TRAIN)\n",
    "directory_files = [os.path.splitext(f)[0] for f in directory_files]\n",
    "    \n",
    "print(directory_files)\n",
    "# Find names in 'MMC' column not in the directory\n",
    "missing_files = df[~df['MMC'].isin(directory_files)]\n",
    "\n",
    "# Print the missing file names\n",
    "print(\"Files in DataFrame not present in the directory:\")\n",
    "print(missing_files['MMC'])"
   ]
  },
  {
   "cell_type": "code",
   "execution_count": null,
   "metadata": {},
   "outputs": [],
   "source": [
    "from PIL import Image\n",
    "\n",
    "def ouvrir_image(nom_image, repertoire='data/DAM'):\n",
    "    nom_fichier = f\"{nom_image}.jpeg\"\n",
    "    chemin_complet = os.path.join(repertoire, nom_fichier)\n",
    "    if os.path.exists(chemin_complet):\n",
    "        img = Image.open(chemin_complet)\n",
    "        img.show()\n",
    "    else:\n",
    "        print(f\"L'image {nom_fichier} n'existe pas dans le répertoire {repertoire}.\")\n",
    "nom_image = 'S0074OKSFM50E'\n",
    "ouvrir_image(nom_image, repertoire=DIRECTORY_PATH_TRAIN)"
   ]
  },
  {
   "cell_type": "code",
   "execution_count": null,
   "metadata": {},
   "outputs": [],
   "source": [
    "fichiers = [f for f in os.listdir(DIRECTORY_PATH_TRAIN) if f.lower().endswith(('.jpeg', '.jpg', '.png', '.gif', '.bmp'))]\n",
    "infos_images = []\n",
    "for fichier in fichiers:\n",
    "    chemin_complet = os.path.join(DIRECTORY_PATH_TRAIN, fichier)\n",
    "    with Image.open(chemin_complet) as img:\n",
    "        taille = img.size  # (largeur, hauteur)\n",
    "        infos_images.append({'nom_fichier': fichier, 'taille': taille})\n",
    "tailles_uniques = set(info['taille'] for info in infos_images)\n",
    "print(\"Tailles d'images uniques dans le train:\")\n",
    "print(tailles_uniques)"
   ]
  },
  {
   "cell_type": "code",
   "execution_count": null,
   "metadata": {},
   "outputs": [],
   "source": [
    "fichiers = [f for f in os.listdir(DIRECTORY_PATH_TEST) if f.lower().endswith(('.jpeg', '.jpg', '.png', '.gif', '.bmp'))]\n",
    "infos_images = []\n",
    "for fichier in fichiers:\n",
    "    chemin_complet = os.path.join(DIRECTORY_PATH_TEST, fichier)\n",
    "    with Image.open(chemin_complet) as img:\n",
    "        taille = img.size  # (largeur, hauteur)\n",
    "        infos_images.append({'nom_fichier': fichier, 'taille': taille})\n",
    "tailles_uniques = set(info['taille'] for info in infos_images)\n",
    "print(\"Tailles d'images uniques dans le test :\")\n",
    "print(tailles_uniques)"
   ]
  }
 ],
 "metadata": {
  "kernelspec": {
   "display_name": "Python 3",
   "language": "python",
   "name": "python3"
  },
  "language_info": {
   "codemirror_mode": {
    "name": "ipython",
    "version": 3
   },
   "file_extension": ".py",
   "mimetype": "text/x-python",
   "name": "python",
   "nbconvert_exporter": "python",
   "pygments_lexer": "ipython3",
   "version": "3.12.6"
  }
 },
 "nbformat": 4,
 "nbformat_minor": 2
}
